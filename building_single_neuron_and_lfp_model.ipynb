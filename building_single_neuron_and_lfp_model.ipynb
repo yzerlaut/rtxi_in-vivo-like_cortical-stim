{
 "cells": [
  {
   "cell_type": "markdown",
   "metadata": {
    "ein.tags": "worksheet-0",
    "slideshow": {
     "slide_type": "-"
    }
   },
   "source": [
    "Inspired by the\n"
   ]
  },
  {
   "cell_type": "code",
   "execution_count": 401,
   "metadata": {
    "autoscroll": false,
    "collapsed": false,
    "ein.tags": "worksheet-0",
    "slideshow": {
     "slide_type": "-"
    }
   },
   "outputs": [],
   "source": [
    "import numpy as np\n",
    "%matplotlib inline\n",
    "import matplotlib.pylab as plt\n",
    "Blue, Orange, Green, Red, Purple, Brown, Pink, Grey,\\\n",
    "    Kaki, Cyan = '#1f77b4', '#ff7f0e', '#2ca02c', '#d62728',\\\n",
    "    '#9467bd', '#8c564b', '#e377c2', '#7f7f7f', '#bcbd22', '#17becf'"
   ]
  },
  {
   "cell_type": "markdown",
   "metadata": {
    "ein.tags": "worksheet-0",
    "slideshow": {
     "slide_type": "-"
    }
   },
   "source": [
    "# Single neuron model: leaky Integrate and Fire"
   ]
  },
  {
   "cell_type": "code",
   "execution_count": 402,
   "metadata": {
    "autoscroll": false,
    "collapsed": false,
    "ein.tags": "worksheet-0",
    "slideshow": {
     "slide_type": "-"
    }
   },
   "outputs": [
    {
     "data": {
      "text/plain": [
       "<matplotlib.figure.Figure at 0x15bd8d8d0>"
      ]
     },
     "metadata": {},
     "output_type": "display_data"
    },
    {
     "data": {
      "text/plain": [
       "<matplotlib.text.Text at 0x15c2377b8>"
      ]
     },
     "execution_count": 402,
     "metadata": {},
     "output_type": "execute_result"
    }
   ],
   "source": [
    "dt, tstop = 1e-4, 0.6\n",
    "t = np.arange(int(tstop/dt))*dt\n",
    "\n",
    "def I_func(t, V):\n",
    "    if (t>0.1) and (t<0.4):\n",
    "        return 210e-12\n",
    "    else:\n",
    "        return 0\n",
    "\n",
    "def membrane_dynamics(t, I_func,\n",
    "                      Cm=200e-12, Gl=10e-9, El=-70e-3,\n",
    "                      Vthre=-50e-3, Vspk=10e-3, Trefrac=5e-3):\n",
    "    \"\"\"\n",
    "    Function solving the single neuron membrane potential dynamics given a \n",
    "    time-and-voltage-dependent Current function \"I_func\"\n",
    "    \"\"\"\n",
    "    v, t_lastspike = [El], -np.inf\n",
    "    for i in range(1, len(t)):\n",
    "        if (v[i-1]>=Vthre) and not (v[i-1]==Vspk):\n",
    "            v.append(Vspk)\n",
    "            t_lastspike = t[i]\n",
    "        elif (t[i]-t_lastspike)<Trefrac:\n",
    "            v.append(El)\n",
    "        else:\n",
    "            v.append(v[i-1]+dt/Cm*(I_func(t[i], v[i-1])+Gl*(El-v[i-1])))\n",
    "    \n",
    "    return np.array(v)\n",
    "\n",
    "plt.plot(1e3*t, 1e3*membrane_dynamics(t, I_func))\n",
    "plt.xlabel('time (ms)');plt.ylabel('$V_m$ (mV)')"
   ]
  },
  {
   "cell_type": "markdown",
   "metadata": {
    "ein.tags": "worksheet-0",
    "slideshow": {
     "slide_type": "-"
    }
   },
   "source": [
    "# Shaping synaptic currents"
   ]
  },
  {
   "cell_type": "code",
   "execution_count": 403,
   "metadata": {
    "autoscroll": false,
    "collapsed": false,
    "ein.tags": "worksheet-0",
    "slideshow": {
     "slide_type": "-"
    }
   },
   "outputs": [
    {
     "data": {
      "text/plain": [
       "<matplotlib.figure.Figure at 0x126375da0>"
      ]
     },
     "metadata": {},
     "output_type": "display_data"
    },
    {
     "data": {
      "text/plain": [
       "[<matplotlib.lines.Line2D at 0x15ac21b00>]"
      ]
     },
     "execution_count": 403,
     "metadata": {},
     "output_type": "execute_result"
    }
   ],
   "source": [
    "dt, tstop = 1e-4, 1.\n",
    "t = np.arange(int(tstop/dt))*dt\n",
    "\n",
    "def I_func(t, V, Ga, Ge, Gi, Freq_func,\\\n",
    "           dt=dt,\n",
    "           Qa=4e-9, Na=10, Ea=0e-3, Ta=5e-3,\n",
    "           Qe=2e-9, Ne=200, Ee=0e-3, Te=5e-3,\n",
    "           Qi=10e-9, Ni=50, Ei=-80e-3, Ti=5e-3):\n",
    "\n",
    "    Ga -= Ga*dt/Ta\n",
    "    Ge -= Ge*dt/Te\n",
    "    Gi -= Gi*dt/Ti\n",
    "    \n",
    "    # drawing random numbers to decide whether synaptic currents\n",
    "    pa, pe, pi = np.random.uniform(0, 1., size=3)\n",
    "    fa, fe, fi = Freq_func(t)\n",
    "    if pa<dt*fa*Na:\n",
    "        Ga += Qa\n",
    "    if pe<dt*fe*Ne:\n",
    "        Ge += Qe\n",
    "    if pi<dt*fi*Ni:\n",
    "        Gi += Qi\n",
    "\n",
    "    # now we return synaptic currents\n",
    "    return Ga*(Ea-V)+Ge*(Ee-V)+Gi*(Ei-V), Ga, Ge, Gi\n",
    "\n",
    "def membrane_dynamics(t, I_func, Freq_func,\n",
    "                      dt=1e-4,\n",
    "                      Cm=200e-12, Gl=10e-9, El=-70e-3,\n",
    "                      Vthre=-50e-3, Vspk=10e-3, Trefrac=5e-3):\n",
    "    \"\"\"\n",
    "    Function solving the single neuron membrane potential dynamics given a \n",
    "    time-and-voltage-dependent Current function \"I_func\"\n",
    "    \"\"\"\n",
    "    Ga, Ge, Gi = [0], [0], [0]\n",
    "    v, t_lastspike = [El], -np.inf\n",
    "    for i in range(1, len(t)):\n",
    "        if (v[i-1]>=Vthre) and not (v[i-1]==Vspk):\n",
    "            v.append(Vspk)\n",
    "            t_lastspike = t[i]\n",
    "        elif (t[i]-t_lastspike)<Trefrac:\n",
    "            v.append(El)\n",
    "        else:\n",
    "            Isyn, ga, ge, gi = I_func(t[i], v[i-1], Ga[i-1], Ge[i-1], Gi[i-1], Freq_func)\n",
    "            v.append(v[i-1]+dt/Cm*(Isyn+Gl*(El-v[i-1])))\n",
    "        Ga.append(ga)\n",
    "        Ge.append(ge)\n",
    "        Gi.append(gi)\n",
    "    return np.array(v)\n",
    "\n",
    "def F(t):\n",
    "    \"\"\" returns the afferent, excitatory and inhibitory frequencies respectively\"\"\"\n",
    "    return 10., 7., 20.\n",
    "\n",
    "plt.plot(t, 1e3*membrane_dynamics(t, I_func, F, dt=dt))"
   ]
  },
  {
   "cell_type": "markdown",
   "metadata": {
    "ein.tags": "worksheet-0",
    "slideshow": {
     "slide_type": "-"
    }
   },
   "source": [
    "# Setting up the background activity"
   ]
  },
  {
   "cell_type": "markdown",
   "metadata": {
    "ein.tags": "worksheet-0",
    "slideshow": {
     "slide_type": "-"
    }
   },
   "source": [
    "## Constructing the comodulation of afferent excitation and inhibition"
   ]
  },
  {
   "cell_type": "markdown",
   "metadata": {
    "ein.tags": "worksheet-0",
    "slideshow": {
     "slide_type": "-"
    }
   },
   "source": [
    "### (based on a theoretical study in recurrent networks, Zerlaut et al. ~2017)"
   ]
  },
  {
   "cell_type": "code",
   "execution_count": 404,
   "metadata": {
    "autoscroll": false,
    "collapsed": false,
    "ein.tags": "worksheet-0",
    "slideshow": {
     "slide_type": "-"
    }
   },
   "outputs": [
    {
     "data": {
      "text/plain": [
       "<matplotlib.figure.Figure at 0x106143f60>"
      ]
     },
     "metadata": {},
     "output_type": "display_data"
    },
    {
     "data": {
      "text/plain": [
       "[<matplotlib.lines.Line2D at 0x15b005cc0>]"
      ]
     },
     "execution_count": 404,
     "metadata": {},
     "output_type": "execute_result"
    }
   ],
   "source": [
    "FA, _, _, _, EXC_ACT, INH_ACT, _, _, _ = np.load('comodulation_in_recurrent_ntwks.npy')\n",
    "Fa, Fe, Fi = np.unique(np.unique(FA)), [], []\n",
    "for fa in Fa:\n",
    "    i0 = np.argwhere(np.array(FA)==fa)\n",
    "    Fe.append(EXC_ACT[i0].mean())\n",
    "    Fi.append(INH_ACT[i0].mean())\n",
    "lFa, lFe, lFi = np.log(Fa), np.log(Fe), np.log(Fi)\n",
    "plt.plot(lFa, lFe)\n",
    "plt.plot(lFa, lFi)"
   ]
  },
  {
   "cell_type": "code",
   "execution_count": 408,
   "metadata": {
    "autoscroll": false,
    "collapsed": false,
    "ein.tags": "worksheet-0",
    "slideshow": {
     "slide_type": "-"
    }
   },
   "outputs": [
    {
     "name": "stdout",
     "output_type": "stream",
     "text": [
      "def Fe_func(Fa):\n",
      "    x=np.log(Fa+1e-5)\n",
      "    y =  +-56.550681238*x**12 +1496.63903733*x**11 +-17952.4658914*x**10 +128992.047099*x**9 +-617999.512402*x**8 +2078750.16648*x**7 +-5031200.42987*x**6 +8824045.46324*x**5 +-11125673.8299*x**4 +9831154.25688*x**3 +-5777670.27308*x**2 +2027265.10702*x**1 +-321162.542745*x**0\n",
      "    return np.exp(y) \n",
      "def Fi_func(Fa):\n",
      "    x=np.log(Fa+1e-5)\n",
      "    y =  +-35.0352278809*x**12 +933.942765539*x**11 +-11283.6946933*x**10 +81656.9023314*x**9 +-393994.162019*x**8 +1334548.73485*x**7 +-3252242.27083*x**6 +5742448.17542*x**5 +-7287927.18875*x**4 +6481175.90263*x**3 +-3832586.64742*x**2 +1352868.85255*x**1 +-215571.343599*x**0\n",
      "    return np.exp(y) \n",
      "\n"
     ]
    }
   ],
   "source": [
    "polE = np.polyfit(lFa, lFe, 12)\n",
    "polI = np.polyfit(lFa, lFi, 12)\n",
    "\n",
    "def print_pol_function(pol, func_name='Fe_func'):\n",
    "    S = 'def '+func_name+'(Fa):\\n    x=np.log(Fa+1e-5)\\n'\n",
    "    S += '    y = '\n",
    "    for i, p in enumerate(pol):\n",
    "        S += ' +'+str(p)+'*x**'+str(len(pol)-1-i)\n",
    "    S += '\\n'\n",
    "    S += '    return np.exp(y) \\n'\n",
    "    return S\n",
    "S = print_pol_function(polE, func_name='Fe_func')\n",
    "S += print_pol_function(polI, func_name='Fi_func')\n",
    "print(S)\n",
    "f = open('temp.txt', 'w')\n",
    "f.write(S)\n",
    "f.close()"
   ]
  },
  {
   "cell_type": "code",
   "execution_count": 409,
   "metadata": {
    "autoscroll": false,
    "collapsed": false,
    "ein.tags": "worksheet-0",
    "slideshow": {
     "slide_type": "-"
    }
   },
   "outputs": [],
   "source": [
    "def Fe_func(Fa):\n",
    "    x=np.log(Fa+1e-5)\n",
    "    y =  +-56.550681238*x**12 +1496.63903733*x**11 +-17952.4658914*x**10 +128992.047099*x**9 +-617999.512402*x**8 +2078750.16648*x**7 +-5031200.42987*x**6 +8824045.46324*x**5 +-11125673.8299*x**4 +9831154.25688*x**3 +-5777670.27308*x**2 +2027265.10702*x**1 +-321162.542745*x**0\n",
    "    return np.exp(y) \n",
    "\n",
    "def Fi_func(Fa):\n",
    "    x=np.log(Fa+1e-5)\n",
    "    y =  +-35.0352278809*x**12 +933.942765539*x**11 +-11283.6946933*x**10 +81656.9023314*x**9 +-393994.162019*x**8 +1334548.73485*x**7 +-3252242.27083*x**6 +5742448.17542*x**5 +-7287927.18875*x**4 +6481175.90263*x**3 +-3832586.64742*x**2 +1352868.85255*x**1 +-215571.343599*x**0\n",
    "    return np.exp(y) "
   ]
  },
  {
   "cell_type": "code",
   "execution_count": 412,
   "metadata": {
    "autoscroll": false,
    "collapsed": false,
    "ein.tags": "worksheet-0",
    "slideshow": {
     "slide_type": "-"
    }
   },
   "outputs": [
    {
     "data": {
      "text/plain": [
       "<matplotlib.figure.Figure at 0x158d3a898>"
      ]
     },
     "metadata": {},
     "output_type": "display_data"
    },
    {
     "data": {
      "text/plain": [
       "<matplotlib.legend.Legend at 0x15bd664a8>"
      ]
     },
     "execution_count": 412,
     "metadata": {},
     "output_type": "execute_result"
    }
   ],
   "source": [
    "plt.plot(Fa, Fe, color=Blue, label='data')\n",
    "plt.plot(Fa, Fe_func(Fa), lw=4, alpha=.5, color=Blue, label='polyn. approx.')\n",
    "plt.plot(Fa, Fi, color=Orange, label='data')\n",
    "plt.plot(Fa, Fi_func(Fa), lw=4, alpha=.5, color=Orange, label='polyn. approx.')\n",
    "plt.legend()"
   ]
  },
  {
   "cell_type": "markdown",
   "metadata": {
    "ein.tags": "worksheet-0",
    "slideshow": {
     "slide_type": "-"
    }
   },
   "source": [
    "## Setting up (slow) modulations of the network activity corresponding to various conditions"
   ]
  },
  {
   "cell_type": "markdown",
   "metadata": {
    "ein.tags": "worksheet-0",
    "slideshow": {
     "slide_type": "-"
    }
   },
   "source": [
    "### Deeply anesthetized"
   ]
  },
  {
   "cell_type": "code",
   "execution_count": 413,
   "metadata": {
    "autoscroll": false,
    "collapsed": false,
    "ein.tags": "worksheet-0",
    "slideshow": {
     "slide_type": "-"
    }
   },
   "outputs": [
    {
     "data": {
      "text/plain": [
       "<matplotlib.figure.Figure at 0x151dc7390>"
      ]
     },
     "metadata": {},
     "output_type": "display_data"
    },
    {
     "data": {
      "text/plain": [
       "<matplotlib.legend.Legend at 0x15c5d79e8>"
      ]
     },
     "execution_count": 413,
     "metadata": {},
     "output_type": "execute_result"
    }
   ],
   "source": [
    "def deeply_anesthetized(t, f=3., Fa0=13., Fe0=1e-2):\n",
    "    y0 = np.cos(2.*np.pi*np.sin(f*t))**6\n",
    "    y = (np.sign(y0-0.9)+1)*y0/4.\n",
    "    return Fa0*y, Fe_func(Fa0*y)+Fe0, Fi_func(Fa0*y)/3.\n",
    "\n",
    "dt, tstop = 1e-4, 3.\n",
    "t = np.arange(int(tstop/dt))*dt\n",
    "_, Fe, Fi = np.array([deeply_anesthetized(tt) for tt in t]).T\n",
    "\n",
    "plt.plot(t, Fe, label='$\\\\nu_e$', color=Green, lw=3)\n",
    "plt.plot(t, Fi, label='$\\\\nu_i$', color=Red, lw=3)\n",
    "plt.legend()"
   ]
  },
  {
   "cell_type": "code",
   "execution_count": 414,
   "metadata": {
    "autoscroll": false,
    "collapsed": false,
    "ein.tags": "worksheet-0",
    "slideshow": {
     "slide_type": "-"
    }
   },
   "outputs": [
    {
     "data": {
      "text/plain": [
       "<matplotlib.figure.Figure at 0x143918240>"
      ]
     },
     "metadata": {},
     "output_type": "display_data"
    },
    {
     "data": {
      "text/plain": [
       "[<matplotlib.lines.Line2D at 0x15cddca90>]"
      ]
     },
     "execution_count": 414,
     "metadata": {},
     "output_type": "execute_result"
    }
   ],
   "source": [
    "dt, tstop = 1e-4, 5.\n",
    "t = np.arange(int(tstop/dt))*dt\n",
    "plt.plot(t, 1e3*membrane_dynamics(t, I_func, deeply_anesthetized, dt=dt))"
   ]
  },
  {
   "cell_type": "markdown",
   "metadata": {
    "ein.tags": "worksheet-0",
    "slideshow": {
     "slide_type": "-"
    }
   },
   "source": [
    "## Sleep / Anesthetized"
   ]
  },
  {
   "cell_type": "code",
   "execution_count": 418,
   "metadata": {
    "autoscroll": false,
    "collapsed": false,
    "ein.tags": "worksheet-0",
    "slideshow": {
     "slide_type": "-"
    }
   },
   "outputs": [
    {
     "data": {
      "text/plain": [
       "<matplotlib.figure.Figure at 0x15bd66c88>"
      ]
     },
     "metadata": {},
     "output_type": "display_data"
    },
    {
     "data": {
      "text/plain": [
       "<matplotlib.legend.Legend at 0x15e479358>"
      ]
     },
     "execution_count": 418,
     "metadata": {},
     "output_type": "execute_result"
    }
   ],
   "source": [
    "def sleep(t, f=2., Fa0=20., Fi0=5e-2, Fe0=4e-2):\n",
    "    y = (1+np.sign(np.cos(2.*np.pi*np.sin(f*t))))/2.\n",
    "    return Fa0*y, Fe_func(Fa0*y)+Fe0, Fi_func(Fa0*y)+Fi0\n",
    "\n",
    "dt, tstop = 1e-4, 10.\n",
    "t = np.arange(int(tstop/dt))*dt\n",
    "_, Fe, Fi = np.array([sleep(tt) for tt in t]).T\n",
    "\n",
    "plt.plot(t, Fe, label='$\\\\nu_e$', color=Green, lw=3)\n",
    "plt.plot(t, Fi, label='$\\\\nu_i$', color=Red, lw=3)\n",
    "plt.legend()"
   ]
  },
  {
   "cell_type": "code",
   "execution_count": 419,
   "metadata": {
    "autoscroll": false,
    "collapsed": false,
    "ein.tags": "worksheet-0",
    "slideshow": {
     "slide_type": "-"
    }
   },
   "outputs": [
    {
     "data": {
      "text/plain": [
       "<matplotlib.figure.Figure at 0x154740240>"
      ]
     },
     "metadata": {},
     "output_type": "display_data"
    },
    {
     "data": {
      "text/plain": [
       "[<matplotlib.lines.Line2D at 0x15e419240>]"
      ]
     },
     "execution_count": 419,
     "metadata": {},
     "output_type": "execute_result"
    }
   ],
   "source": [
    "dt, tstop = 1e-4, 5.\n",
    "t = np.arange(int(tstop/dt))*dt\n",
    "plt.plot(t, 1e3*membrane_dynamics(t, I_func, sleep, dt=dt))"
   ]
  },
  {
   "cell_type": "markdown",
   "metadata": {
    "ein.tags": "worksheet-0",
    "slideshow": {
     "slide_type": "-"
    }
   },
   "source": [
    "## Awake"
   ]
  },
  {
   "cell_type": "code",
   "execution_count": 426,
   "metadata": {
    "autoscroll": false,
    "collapsed": false,
    "ein.tags": "worksheet-0",
    "slideshow": {
     "slide_type": "-"
    }
   },
   "outputs": [
    {
     "data": {
      "text/plain": [
       "<matplotlib.figure.Figure at 0x15cdfe320>"
      ]
     },
     "metadata": {},
     "output_type": "display_data"
    },
    {
     "data": {
      "text/plain": [
       "<matplotlib.legend.Legend at 0x15f80ee80>"
      ]
     },
     "execution_count": 426,
     "metadata": {},
     "output_type": "execute_result"
    }
   ],
   "source": [
    "def awake(t, f1=0.7, f2=10., Fa0=3., Fi0=5e-2, Fe0=4e-2):\n",
    "    y = Fa0*(1+(np.sin(2.*np.pi*np.sin(f1*t))+1)+1/2.*np.sin(2.*np.pi*f2*t))\n",
    "    return y, Fe_func(y), Fi_func(y)\n",
    "\n",
    "dt, tstop = 1e-4, 1.\n",
    "t = np.arange(int(tstop/dt))*dt\n",
    "_, Fe, Fi = np.array([awake(tt) for tt in t]).T\n",
    "\n",
    "plt.plot(t, Fe, label='$\\\\nu_e$', color=Green, lw=3)\n",
    "plt.plot(t, Fi, label='$\\\\nu_i$', color=Red, lw=3)\n",
    "plt.legend()                                     "
   ]
  },
  {
   "cell_type": "code",
   "execution_count": 427,
   "metadata": {
    "autoscroll": false,
    "collapsed": false,
    "ein.tags": "worksheet-0",
    "slideshow": {
     "slide_type": "-"
    }
   },
   "outputs": [
    {
     "data": {
      "text/plain": [
       "<matplotlib.figure.Figure at 0x15cdfea58>"
      ]
     },
     "metadata": {},
     "output_type": "display_data"
    },
    {
     "data": {
      "text/plain": [
       "[<matplotlib.lines.Line2D at 0x15fb3f898>]"
      ]
     },
     "execution_count": 427,
     "metadata": {},
     "output_type": "execute_result"
    }
   ],
   "source": [
    "dt, tstop = 1e-4, 5.\n",
    "t = np.arange(int(tstop/dt))*dt\n",
    "plt.plot(t, 1e3*membrane_dynamics(t, I_func, awake, dt=dt))"
   ]
  },
  {
   "cell_type": "code",
   "execution_count": null,
   "metadata": {
    "autoscroll": false,
    "collapsed": false,
    "ein.tags": "worksheet-0",
    "slideshow": {
     "slide_type": "-"
    }
   },
   "outputs": [],
   "source": []
  }
 ],
 "metadata": {
  "kernelspec": {
   "display_name": "Python [Root]",
   "name": "Python [Root]"
  },
  "language_info": {
   "codemirror_mode": {
    "name": "ipython",
    "version": 3
   },
   "file_extension": ".py",
   "mimetype": "text/x-python",
   "name": "python",
   "nbconvert_exporter": "python",
   "pygments_lexer": "ipython3",
   "version": "3.5.2"
  },
  "name": "building_single_neuron_and_lfp_model.ipynb"
 },
 "nbformat": 4,
 "nbformat_minor": 2
}
